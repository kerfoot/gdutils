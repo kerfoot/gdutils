{
 "cells": [
  {
   "cell_type": "code",
   "execution_count": null,
   "id": "19984e04",
   "metadata": {},
   "outputs": [],
   "source": [
    "import sys\n",
    "\n",
    "sys.path.append(\"..\")  # we'll use this only until we package gdutils"
   ]
  },
  {
   "cell_type": "markdown",
   "id": "fcbff2d4",
   "metadata": {},
   "source": [
    "Example using GdacClient to search for datasets by time and geospatial bounds and save the output to csv."
   ]
  },
  {
   "cell_type": "markdown",
   "id": "d62772a5",
   "metadata": {},
   "source": [
    "Search parameters (This is ugly but I'll prettify it later)"
   ]
  },
  {
   "cell_type": "code",
   "execution_count": null,
   "id": "b6dd0116",
   "metadata": {
    "scrolled": true
   },
   "outputs": [],
   "source": [
    "import ipydatetime\n",
    "from datetime import datetime\n",
    "from ipywidgets import VBox, HBox, Label, BoundedFloatText\n",
    "\n",
    "\n",
    "dt0 = ipydatetime.NaiveDatetimePicker(value=datetime(2021, 4, 1, 0, 0, 0))\n",
    "dt1 = ipydatetime.NaiveDatetimePicker(value=datetime(2021, 6, 30, 23, 59, 59))\n",
    "\n",
    "south = BoundedFloatText(\n",
    "    value=-90,\n",
    "    min=-90,\n",
    "    max=90,\n",
    "    description='min lat:',\n",
    ")\n",
    "\n",
    "north = BoundedFloatText(\n",
    "    value=90,\n",
    "    min=-90,\n",
    "    max=90,\n",
    "    description='max lat:',\n",
    ")\n",
    "\n",
    "\n",
    "west = BoundedFloatText(\n",
    "    value=-180,\n",
    "    min=-180,\n",
    "    max=180,\n",
    "    description='min lon:',\n",
    ")\n",
    "\n",
    "east = BoundedFloatText(\n",
    "    value=180,\n",
    "    min=-180,\n",
    "    max=180,\n",
    "    description='max lon:',\n",
    ")\n",
    "\n",
    "\n",
    "\n",
    "VBox([dt0, dt1])"
   ]
  },
  {
   "cell_type": "code",
   "execution_count": null,
   "id": "2a5e966a",
   "metadata": {},
   "outputs": [],
   "source": [
    "VBox(\n",
    "    [\n",
    "        north,\n",
    "        HBox([east, west]),\n",
    "        south,\n",
    "    ],\n",
    ")"
   ]
  },
  {
   "cell_type": "code",
   "execution_count": null,
   "id": "efed49de",
   "metadata": {},
   "outputs": [],
   "source": [
    "dt0 = dt0.value\n",
    "dt1 = dt1.value\n",
    "south = south.value\n",
    "north = north.value\n",
    "west = west.value\n",
    "east = east.value\n",
    "        \n",
    "params = {\n",
    "    \"min_time\": dt0,\n",
    "    \"max_time\": dt1,\n",
    "    \"min_lat\": south,\n",
    "    \"max_lat\": north,\n",
    "    \"min_lon\": west,\n",
    "    \"max_lon\": east,\n",
    "}"
   ]
  },
  {
   "cell_type": "code",
   "execution_count": null,
   "id": "828db57c",
   "metadata": {},
   "outputs": [],
   "source": [
    "from gdutils import GdacClient\n",
    "\n",
    "\n",
    "client = GdacClient()\n",
    "\n",
    "client.search_datasets(params=params)\n",
    "client.datasets"
   ]
  },
  {
   "cell_type": "code",
   "execution_count": null,
   "id": "3758c0ee",
   "metadata": {},
   "outputs": [],
   "source": [
    "# Count the total number of deployments within the dt0:dt1 time window\n",
    "num_deployments = client.datasets.shape[0]\n",
    "\n",
    "# Count the number of glider days withing the dt0:dt1 time window\n",
    "glider_days = client.glider_days_per_yyyymmdd.loc[dt0:dt1].sum()\n",
    "\n",
    "# count the number of profiles per dataset\n",
    "profile_count = client.profiles_per_yyyymmdd.loc[dt0:dt1].sum()\n",
    "\n",
    "datasets = client.datasets.copy()"
   ]
  },
  {
   "cell_type": "markdown",
   "id": "c2f65bd6",
   "metadata": {},
   "source": [
    "Loop through the datasets, fetch the info url and pull out the desired attributes"
   ]
  },
  {
   "cell_type": "code",
   "execution_count": null,
   "id": "cd553990",
   "metadata": {},
   "outputs": [],
   "source": [
    "import warnings\n",
    "\n",
    "\n",
    "sea_names = []\n",
    "funding_sources = []\n",
    "for dataset_id, row in datasets.iterrows():\n",
    "\n",
    "    # Fetch the dataset description from ERDDAP\n",
    "    info = client.get_dataset_metadata(dataset_id)\n",
    "\n",
    "    if info.empty:\n",
    "        continue\n",
    "\n",
    "    # Find all global NetCDF attributes\n",
    "    nc_globals = info.loc[info[\"Variable Name\"] == \"NC_GLOBAL\"]\n",
    "\n",
    "    # Find the sea_name global attribute\n",
    "    sea_name_attr = nc_globals.loc[nc_globals[\"Attribute Name\"] == \"sea_name\"]\n",
    "    sea_name = \"unknown\"\n",
    "    if not sea_name_attr.empty:\n",
    "        sea_name = sea_name_attr.Value.iloc[0]\n",
    "        sea_name = sea_name or \"unknown\"\n",
    "    else:\n",
    "        warnings.warn(f\"{dataset_id}: sea_name NC_GLOBAL not found\")\n",
    "\n",
    "    # Find all global attributes that begin with \"acknowledg\" as this attribute typically contains the funding sources\n",
    "    funding_attr = nc_globals.loc[nc_globals[\"Attribute Name\"].str.startswith(\"acknowledg\")]\n",
    "    funding = \"unknown\"\n",
    "    if not funding_attr.empty:\n",
    "        funding = funding_attr.Value.iloc[0]\n",
    "        funding = funding or \"unknown\"\n",
    "    else:\n",
    "        warnings.warn(f\"{dataset_id}: acknowledgment NC_GLOBAL not found\")\n",
    "\n",
    "    sea_names.append(sea_name)\n",
    "    funding_sources.append(funding)"
   ]
  },
  {
   "cell_type": "code",
   "execution_count": null,
   "id": "54caed7b",
   "metadata": {},
   "outputs": [],
   "source": [
    "# Add the 2 columns\n",
    "datasets[\"deployment_area\"] = sea_names\n",
    "datasets[\"funding\"] = funding_sources\n",
    "\n",
    "# specify the columns we want in the output when dumping to csv\n",
    "cols = [\n",
    "    \"glider\",\n",
    "    \"wmo_id\",\n",
    "    \"start_date\",\n",
    "    \"end_date\",\n",
    "    \"num_profiles\",\n",
    "    \"days\",\n",
    "    \"institution\",\n",
    "    \"deployment_area\",\n",
    "    \"funding\"\n",
    "]\n",
    "\n",
    "datasets.to_csv(\"2021_Q2_datasets.csv\", columns=cols)"
   ]
  },
  {
   "cell_type": "code",
   "execution_count": null,
   "id": "f69a2575",
   "metadata": {},
   "outputs": [],
   "source": [
    "datasets"
   ]
  }
 ],
 "metadata": {
  "kernelspec": {
   "display_name": "Python 3 (ipykernel)",
   "language": "python",
   "name": "python3"
  },
  "language_info": {
   "codemirror_mode": {
    "name": "ipython",
    "version": 3
   },
   "file_extension": ".py",
   "mimetype": "text/x-python",
   "name": "python",
   "nbconvert_exporter": "python",
   "pygments_lexer": "ipython3",
   "version": "3.9.6"
  }
 },
 "nbformat": 4,
 "nbformat_minor": 5
}
